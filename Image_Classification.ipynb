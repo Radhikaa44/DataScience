{
  "nbformat": 4,
  "nbformat_minor": 0,
  "metadata": {
    "colab": {
      "name": "Image_Classification_MINI_PROJECT_SmartKNower.ipynb",
      "provenance": [],
      "collapsed_sections": [],
      "mount_file_id": "1QzPk_0bK8Xmn5XdrGgoP6xgekRaA7Quz",
      "authorship_tag": "ABX9TyM56l1moxO6KsswrxgURcyo",
      "include_colab_link": true
    },
    "kernelspec": {
      "name": "python3",
      "display_name": "Python 3"
    },
    "language_info": {
      "name": "python"
    }
  },
  "cells": [
    {
      "cell_type": "markdown",
      "metadata": {
        "id": "view-in-github",
        "colab_type": "text"
      },
      "source": [
        "<a href=\"https://colab.research.google.com/github/Radhikaa44/DataScience/blob/main/Image_Classification_MINI_PROJECT_SmartKNower.ipynb\" target=\"_parent\"><img src=\"https://colab.research.google.com/assets/colab-badge.svg\" alt=\"Open In Colab\"/></a>"
      ]
    },
    {
      "cell_type": "code",
      "metadata": {
        "colab": {
          "base_uri": "https://localhost:8080/"
        },
        "id": "vm5ECtJ1rMxR",
        "outputId": "86cb595c-b610-40ee-ae15-a77b4d479124"
      },
      "source": [
        "!pip install streamlit\n",
        "!pip install pyngrok==4.1.1\n",
        "!pip install ipython-autotime\n",
        "%load_ext autotime"
      ],
      "execution_count": 1,
      "outputs": [
        {
          "output_type": "stream",
          "text": [
            "Requirement already satisfied: streamlit in /usr/local/lib/python3.7/dist-packages (0.82.0)\n",
            "Requirement already satisfied: pandas>=0.21.0 in /usr/local/lib/python3.7/dist-packages (from streamlit) (1.1.5)\n",
            "Requirement already satisfied: gitpython in /usr/local/lib/python3.7/dist-packages (from streamlit) (3.1.17)\n",
            "Requirement already satisfied: numpy in /usr/local/lib/python3.7/dist-packages (from streamlit) (1.19.5)\n",
            "Requirement already satisfied: pydeck>=0.1.dev5 in /usr/local/lib/python3.7/dist-packages (from streamlit) (0.6.2)\n",
            "Requirement already satisfied: pyarrow; python_version < \"3.9\" in /usr/local/lib/python3.7/dist-packages (from streamlit) (3.0.0)\n",
            "Requirement already satisfied: tzlocal in /usr/local/lib/python3.7/dist-packages (from streamlit) (1.5.1)\n",
            "Requirement already satisfied: watchdog; platform_system != \"Darwin\" in /usr/local/lib/python3.7/dist-packages (from streamlit) (2.1.2)\n",
            "Requirement already satisfied: astor in /usr/local/lib/python3.7/dist-packages (from streamlit) (0.8.1)\n",
            "Requirement already satisfied: click<8.0,>=7.0 in /usr/local/lib/python3.7/dist-packages (from streamlit) (7.1.2)\n",
            "Requirement already satisfied: base58 in /usr/local/lib/python3.7/dist-packages (from streamlit) (2.1.0)\n",
            "Requirement already satisfied: tornado>=5.0 in /usr/local/lib/python3.7/dist-packages (from streamlit) (5.1.1)\n",
            "Requirement already satisfied: validators in /usr/local/lib/python3.7/dist-packages (from streamlit) (0.18.2)\n",
            "Requirement already satisfied: blinker in /usr/local/lib/python3.7/dist-packages (from streamlit) (1.4)\n",
            "Requirement already satisfied: requests in /usr/local/lib/python3.7/dist-packages (from streamlit) (2.23.0)\n",
            "Requirement already satisfied: packaging in /usr/local/lib/python3.7/dist-packages (from streamlit) (20.9)\n",
            "Requirement already satisfied: toml in /usr/local/lib/python3.7/dist-packages (from streamlit) (0.10.2)\n",
            "Requirement already satisfied: cachetools>=4.0 in /usr/local/lib/python3.7/dist-packages (from streamlit) (4.2.2)\n",
            "Requirement already satisfied: protobuf!=3.11,>=3.6.0 in /usr/local/lib/python3.7/dist-packages (from streamlit) (3.12.4)\n",
            "Requirement already satisfied: altair>=3.2.0 in /usr/local/lib/python3.7/dist-packages (from streamlit) (4.1.0)\n",
            "Requirement already satisfied: python-dateutil in /usr/local/lib/python3.7/dist-packages (from streamlit) (2.8.1)\n",
            "Requirement already satisfied: pillow>=6.2.0 in /usr/local/lib/python3.7/dist-packages (from streamlit) (7.1.2)\n",
            "Requirement already satisfied: pytz>=2017.2 in /usr/local/lib/python3.7/dist-packages (from pandas>=0.21.0->streamlit) (2018.9)\n",
            "Requirement already satisfied: typing-extensions>=3.7.4.0; python_version < \"3.8\" in /usr/local/lib/python3.7/dist-packages (from gitpython->streamlit) (3.7.4.3)\n",
            "Requirement already satisfied: gitdb<5,>=4.0.1 in /usr/local/lib/python3.7/dist-packages (from gitpython->streamlit) (4.0.7)\n",
            "Requirement already satisfied: jinja2>=2.10.1 in /usr/local/lib/python3.7/dist-packages (from pydeck>=0.1.dev5->streamlit) (2.11.3)\n",
            "Requirement already satisfied: ipykernel>=5.1.2; python_version >= \"3.4\" in /usr/local/lib/python3.7/dist-packages (from pydeck>=0.1.dev5->streamlit) (5.5.5)\n",
            "Requirement already satisfied: traitlets>=4.3.2 in /usr/local/lib/python3.7/dist-packages (from pydeck>=0.1.dev5->streamlit) (5.0.5)\n",
            "Requirement already satisfied: ipywidgets>=7.0.0 in /usr/local/lib/python3.7/dist-packages (from pydeck>=0.1.dev5->streamlit) (7.6.3)\n",
            "Requirement already satisfied: six>=1.4.0 in /usr/local/lib/python3.7/dist-packages (from validators->streamlit) (1.15.0)\n",
            "Requirement already satisfied: decorator>=3.4.0 in /usr/local/lib/python3.7/dist-packages (from validators->streamlit) (4.4.2)\n",
            "Requirement already satisfied: idna<3,>=2.5 in /usr/local/lib/python3.7/dist-packages (from requests->streamlit) (2.10)\n",
            "Requirement already satisfied: certifi>=2017.4.17 in /usr/local/lib/python3.7/dist-packages (from requests->streamlit) (2020.12.5)\n",
            "Requirement already satisfied: chardet<4,>=3.0.2 in /usr/local/lib/python3.7/dist-packages (from requests->streamlit) (3.0.4)\n",
            "Requirement already satisfied: urllib3!=1.25.0,!=1.25.1,<1.26,>=1.21.1 in /usr/local/lib/python3.7/dist-packages (from requests->streamlit) (1.24.3)\n",
            "Requirement already satisfied: pyparsing>=2.0.2 in /usr/local/lib/python3.7/dist-packages (from packaging->streamlit) (2.4.7)\n",
            "Requirement already satisfied: setuptools in /usr/local/lib/python3.7/dist-packages (from protobuf!=3.11,>=3.6.0->streamlit) (56.1.0)\n",
            "Requirement already satisfied: jsonschema in /usr/local/lib/python3.7/dist-packages (from altair>=3.2.0->streamlit) (2.6.0)\n",
            "Requirement already satisfied: entrypoints in /usr/local/lib/python3.7/dist-packages (from altair>=3.2.0->streamlit) (0.3)\n",
            "Requirement already satisfied: toolz in /usr/local/lib/python3.7/dist-packages (from altair>=3.2.0->streamlit) (0.11.1)\n",
            "Requirement already satisfied: smmap<5,>=3.0.1 in /usr/local/lib/python3.7/dist-packages (from gitdb<5,>=4.0.1->gitpython->streamlit) (4.0.0)\n",
            "Requirement already satisfied: MarkupSafe>=0.23 in /usr/local/lib/python3.7/dist-packages (from jinja2>=2.10.1->pydeck>=0.1.dev5->streamlit) (2.0.0)\n",
            "Requirement already satisfied: ipython>=5.0.0 in /usr/local/lib/python3.7/dist-packages (from ipykernel>=5.1.2; python_version >= \"3.4\"->pydeck>=0.1.dev5->streamlit) (5.5.0)\n",
            "Requirement already satisfied: jupyter-client in /usr/local/lib/python3.7/dist-packages (from ipykernel>=5.1.2; python_version >= \"3.4\"->pydeck>=0.1.dev5->streamlit) (5.3.5)\n",
            "Requirement already satisfied: ipython-genutils in /usr/local/lib/python3.7/dist-packages (from traitlets>=4.3.2->pydeck>=0.1.dev5->streamlit) (0.2.0)\n",
            "Requirement already satisfied: widgetsnbextension~=3.5.0 in /usr/local/lib/python3.7/dist-packages (from ipywidgets>=7.0.0->pydeck>=0.1.dev5->streamlit) (3.5.1)\n",
            "Requirement already satisfied: jupyterlab-widgets>=1.0.0; python_version >= \"3.6\" in /usr/local/lib/python3.7/dist-packages (from ipywidgets>=7.0.0->pydeck>=0.1.dev5->streamlit) (1.0.0)\n",
            "Requirement already satisfied: nbformat>=4.2.0 in /usr/local/lib/python3.7/dist-packages (from ipywidgets>=7.0.0->pydeck>=0.1.dev5->streamlit) (5.1.3)\n",
            "Requirement already satisfied: simplegeneric>0.8 in /usr/local/lib/python3.7/dist-packages (from ipython>=5.0.0->ipykernel>=5.1.2; python_version >= \"3.4\"->pydeck>=0.1.dev5->streamlit) (0.8.1)\n",
            "Requirement already satisfied: prompt-toolkit<2.0.0,>=1.0.4 in /usr/local/lib/python3.7/dist-packages (from ipython>=5.0.0->ipykernel>=5.1.2; python_version >= \"3.4\"->pydeck>=0.1.dev5->streamlit) (1.0.18)\n",
            "Requirement already satisfied: pygments in /usr/local/lib/python3.7/dist-packages (from ipython>=5.0.0->ipykernel>=5.1.2; python_version >= \"3.4\"->pydeck>=0.1.dev5->streamlit) (2.6.1)\n",
            "Requirement already satisfied: pexpect; sys_platform != \"win32\" in /usr/local/lib/python3.7/dist-packages (from ipython>=5.0.0->ipykernel>=5.1.2; python_version >= \"3.4\"->pydeck>=0.1.dev5->streamlit) (4.8.0)\n",
            "Requirement already satisfied: pickleshare in /usr/local/lib/python3.7/dist-packages (from ipython>=5.0.0->ipykernel>=5.1.2; python_version >= \"3.4\"->pydeck>=0.1.dev5->streamlit) (0.7.5)\n",
            "Requirement already satisfied: pyzmq>=13 in /usr/local/lib/python3.7/dist-packages (from jupyter-client->ipykernel>=5.1.2; python_version >= \"3.4\"->pydeck>=0.1.dev5->streamlit) (22.0.3)\n",
            "Requirement already satisfied: jupyter-core>=4.6.0 in /usr/local/lib/python3.7/dist-packages (from jupyter-client->ipykernel>=5.1.2; python_version >= \"3.4\"->pydeck>=0.1.dev5->streamlit) (4.7.1)\n",
            "Requirement already satisfied: notebook>=4.4.1 in /usr/local/lib/python3.7/dist-packages (from widgetsnbextension~=3.5.0->ipywidgets>=7.0.0->pydeck>=0.1.dev5->streamlit) (5.3.1)\n",
            "Requirement already satisfied: wcwidth in /usr/local/lib/python3.7/dist-packages (from prompt-toolkit<2.0.0,>=1.0.4->ipython>=5.0.0->ipykernel>=5.1.2; python_version >= \"3.4\"->pydeck>=0.1.dev5->streamlit) (0.2.5)\n",
            "Requirement already satisfied: ptyprocess>=0.5 in /usr/local/lib/python3.7/dist-packages (from pexpect; sys_platform != \"win32\"->ipython>=5.0.0->ipykernel>=5.1.2; python_version >= \"3.4\"->pydeck>=0.1.dev5->streamlit) (0.7.0)\n",
            "Requirement already satisfied: Send2Trash in /usr/local/lib/python3.7/dist-packages (from notebook>=4.4.1->widgetsnbextension~=3.5.0->ipywidgets>=7.0.0->pydeck>=0.1.dev5->streamlit) (1.5.0)\n",
            "Requirement already satisfied: terminado>=0.8.1 in /usr/local/lib/python3.7/dist-packages (from notebook>=4.4.1->widgetsnbextension~=3.5.0->ipywidgets>=7.0.0->pydeck>=0.1.dev5->streamlit) (0.9.5)\n",
            "Requirement already satisfied: nbconvert in /usr/local/lib/python3.7/dist-packages (from notebook>=4.4.1->widgetsnbextension~=3.5.0->ipywidgets>=7.0.0->pydeck>=0.1.dev5->streamlit) (5.6.1)\n",
            "Requirement already satisfied: mistune<2,>=0.8.1 in /usr/local/lib/python3.7/dist-packages (from nbconvert->notebook>=4.4.1->widgetsnbextension~=3.5.0->ipywidgets>=7.0.0->pydeck>=0.1.dev5->streamlit) (0.8.4)\n",
            "Requirement already satisfied: pandocfilters>=1.4.1 in /usr/local/lib/python3.7/dist-packages (from nbconvert->notebook>=4.4.1->widgetsnbextension~=3.5.0->ipywidgets>=7.0.0->pydeck>=0.1.dev5->streamlit) (1.4.3)\n",
            "Requirement already satisfied: testpath in /usr/local/lib/python3.7/dist-packages (from nbconvert->notebook>=4.4.1->widgetsnbextension~=3.5.0->ipywidgets>=7.0.0->pydeck>=0.1.dev5->streamlit) (0.4.4)\n",
            "Requirement already satisfied: bleach in /usr/local/lib/python3.7/dist-packages (from nbconvert->notebook>=4.4.1->widgetsnbextension~=3.5.0->ipywidgets>=7.0.0->pydeck>=0.1.dev5->streamlit) (3.3.0)\n",
            "Requirement already satisfied: defusedxml in /usr/local/lib/python3.7/dist-packages (from nbconvert->notebook>=4.4.1->widgetsnbextension~=3.5.0->ipywidgets>=7.0.0->pydeck>=0.1.dev5->streamlit) (0.7.1)\n",
            "Requirement already satisfied: webencodings in /usr/local/lib/python3.7/dist-packages (from bleach->nbconvert->notebook>=4.4.1->widgetsnbextension~=3.5.0->ipywidgets>=7.0.0->pydeck>=0.1.dev5->streamlit) (0.5.1)\n",
            "Requirement already satisfied: pyngrok==4.1.1 in /usr/local/lib/python3.7/dist-packages (4.1.1)\n",
            "Requirement already satisfied: future in /usr/local/lib/python3.7/dist-packages (from pyngrok==4.1.1) (0.16.0)\n",
            "Requirement already satisfied: PyYAML in /usr/local/lib/python3.7/dist-packages (from pyngrok==4.1.1) (3.13)\n",
            "Requirement already satisfied: ipython-autotime in /usr/local/lib/python3.7/dist-packages (0.3.1)\n",
            "Requirement already satisfied: ipython in /usr/local/lib/python3.7/dist-packages (from ipython-autotime) (5.5.0)\n",
            "Requirement already satisfied: pexpect; sys_platform != \"win32\" in /usr/local/lib/python3.7/dist-packages (from ipython->ipython-autotime) (4.8.0)\n",
            "Requirement already satisfied: pygments in /usr/local/lib/python3.7/dist-packages (from ipython->ipython-autotime) (2.6.1)\n",
            "Requirement already satisfied: prompt-toolkit<2.0.0,>=1.0.4 in /usr/local/lib/python3.7/dist-packages (from ipython->ipython-autotime) (1.0.18)\n",
            "Requirement already satisfied: decorator in /usr/local/lib/python3.7/dist-packages (from ipython->ipython-autotime) (4.4.2)\n",
            "Requirement already satisfied: pickleshare in /usr/local/lib/python3.7/dist-packages (from ipython->ipython-autotime) (0.7.5)\n",
            "Requirement already satisfied: setuptools>=18.5 in /usr/local/lib/python3.7/dist-packages (from ipython->ipython-autotime) (56.1.0)\n",
            "Requirement already satisfied: simplegeneric>0.8 in /usr/local/lib/python3.7/dist-packages (from ipython->ipython-autotime) (0.8.1)\n",
            "Requirement already satisfied: traitlets>=4.2 in /usr/local/lib/python3.7/dist-packages (from ipython->ipython-autotime) (5.0.5)\n",
            "Requirement already satisfied: ptyprocess>=0.5 in /usr/local/lib/python3.7/dist-packages (from pexpect; sys_platform != \"win32\"->ipython->ipython-autotime) (0.7.0)\n",
            "Requirement already satisfied: six>=1.9.0 in /usr/local/lib/python3.7/dist-packages (from prompt-toolkit<2.0.0,>=1.0.4->ipython->ipython-autotime) (1.15.0)\n",
            "Requirement already satisfied: wcwidth in /usr/local/lib/python3.7/dist-packages (from prompt-toolkit<2.0.0,>=1.0.4->ipython->ipython-autotime) (0.2.5)\n",
            "Requirement already satisfied: ipython-genutils in /usr/local/lib/python3.7/dist-packages (from traitlets>=4.2->ipython->ipython-autotime) (0.2.0)\n",
            "time: 1.49 ms (started: 2021-05-24 04:47:11 +00:00)\n"
          ],
          "name": "stdout"
        }
      ]
    },
    {
      "cell_type": "code",
      "metadata": {
        "id": "YYIimS9ytjhE",
        "colab": {
          "base_uri": "https://localhost:8080/"
        },
        "outputId": "840a93a7-7c95-4b08-8898-c481ddb52632"
      },
      "source": [
        "import pandas as pd\n",
        "import numpy as np\n",
        "import matplotlib.pyplot as plt\n",
        "import os\n",
        "from skimage.io import imread\n",
        "from skimage.transform import resize"
      ],
      "execution_count": 2,
      "outputs": [
        {
          "output_type": "stream",
          "text": [
            "time: 359 ms (started: 2021-05-24 04:47:23 +00:00)\n"
          ],
          "name": "stdout"
        }
      ]
    },
    {
      "cell_type": "code",
      "metadata": {
        "id": "vzx6n6_xttUX",
        "colab": {
          "base_uri": "https://localhost:8080/"
        },
        "outputId": "7a81b7b6-0651-4bd7-9d99-09a4018cdcdf"
      },
      "source": [
        "# We will convert our 2D image into the 1D vector.\n",
        "output_category = []\n",
        "input_img = []\n",
        "flatten_ip_img = []\n",
        "\n",
        "# Save the path of our Data folder in a variable for further use.\n",
        "\n",
        "DATADIR = '/content/drive/MyDrive/Colab Notebooks/SMARTKNOWER/Mini Project/Manual/DATA'\n",
        "Categories = ['Computer Keyboard','Earphones','Computer Mouse']"
      ],
      "execution_count": 3,
      "outputs": [
        {
          "output_type": "stream",
          "text": [
            "time: 1.74 ms (started: 2021-05-24 04:47:23 +00:00)\n"
          ],
          "name": "stdout"
        }
      ]
    },
    {
      "cell_type": "code",
      "metadata": {
        "id": "SBsdJQu3M9z2",
        "colab": {
          "base_uri": "https://localhost:8080/",
          "height": 170
        },
        "outputId": "eb06f348-1be8-4c1c-b442-da810423440b"
      },
      "source": [
        "'''\n",
        "If data is collected from Bing downloader then, above code will be replaced by:\n",
        "\n",
        "import os\n",
        "import matplotlib.pyplot as plt\n",
        "import numpy as np\n",
        "from skimage.io import imread\n",
        "from skimage.transform import resize\n",
        "# Since the image is present in the format of height, width \n",
        "# it should flatten out.\n",
        "# i.e., it should present in a 1-D array.\n",
        "\n",
        "#output_category = []\n",
        "input_images = []\n",
        "flatten_ip_img = []\n",
        "\n",
        "# Changing the name of the files.\n",
        "\n",
        "DATADIR = \"/content/Mini_Project_images\"\n",
        "Categories = ['Earphones','LED TV','Laptop','cell phone','computer keyboard','computer mouse']\n",
        "\n",
        "After this, the code will be the same for all.\n",
        "'''"
      ],
      "execution_count": 4,
      "outputs": [
        {
          "output_type": "execute_result",
          "data": {
            "application/vnd.google.colaboratory.intrinsic+json": {
              "type": "string"
            },
            "text/plain": [
              "'\\nIf data is collected from Bing downloader then, above code will be replaced by:\\n\\nimport os\\nimport matplotlib.pyplot as plt\\nimport numpy as np\\nfrom skimage.io import imread\\nfrom skimage.transform import resize\\n# Since the image is present in the format of height, width \\n# it should flatten out.\\n# i.e., it should present in a 1-D array.\\n\\n#output_category = []\\ninput_images = []\\nflatten_ip_img = []\\n\\n# Changing the name of the files.\\n\\nDATADIR = \"/content/Mini_Project_images\"\\nCategories = [\\'Earphones\\',\\'LED TV\\',\\'Laptop\\',\\'cell phone\\',\\'computer keyboard\\',\\'computer mouse\\']\\n\\nAfter this, the code will be the same for all.\\n'"
            ]
          },
          "metadata": {
            "tags": []
          },
          "execution_count": 4
        },
        {
          "output_type": "stream",
          "text": [
            "time: 6.28 ms (started: 2021-05-24 04:47:24 +00:00)\n"
          ],
          "name": "stdout"
        }
      ]
    },
    {
      "cell_type": "code",
      "metadata": {
        "id": "9VT6Sb3RA_wd",
        "colab": {
          "base_uri": "https://localhost:8080/"
        },
        "outputId": "2a1544f4-0818-4b37-89e9-aa0f53539420"
      },
      "source": [
        "#print(os.listdir(DATADIR))\n",
        "for category in Categories:\n",
        "  index_cat = Categories.index(category) # This is Label Encoding\n",
        "  #print(index_cat)\n",
        "  #Now we will save the path of each category folder in a variable\n",
        "  #and we will iterate through each path.\n",
        "  path = os.path.join(DATADIR,category)\n",
        "  # print(os.listdir(path))\n",
        "  # Iterating through each category and accessing each image.\n",
        "\n",
        "  for image in os.listdir(path):\n",
        "    array = imread(os.path.join(path,image)) \n",
        "    # print(array)\n",
        "    # print(array.shape)\n",
        "    # fname is the argument here. So, we need to give the path of the file.\n",
        "    # plt.imshow(array)\n",
        "    # break\n",
        "\n",
        "    # now, \n",
        "    # 1. Resizing\n",
        "    # 2. Flattening\n",
        "    img_resized = resize(array,(200,200,3)) # Along with resizing it also normalizes the values.\n",
        "    flatten_ip_img.append(img_resized.flatten())\n",
        "    input_img.append(img_resized)\n",
        "    output_category.append(index_cat)\n",
        "# Converting List into numpy array\n",
        "flatten_ip_img = np.array(flatten_ip_img)\n",
        "input_img = np.array(input_img)\n",
        "output_category = np.array(output_category)\n"
      ],
      "execution_count": 5,
      "outputs": [
        {
          "output_type": "stream",
          "text": [
            "time: 2.73 s (started: 2021-05-24 04:47:25 +00:00)\n"
          ],
          "name": "stdout"
        }
      ]
    },
    {
      "cell_type": "code",
      "metadata": {
        "colab": {
          "base_uri": "https://localhost:8080/"
        },
        "id": "uwJxviHD1Ts4",
        "outputId": "dc6c0a46-de08-426d-e2ea-c0bdb1030128"
      },
      "source": [
        "array.shape"
      ],
      "execution_count": 6,
      "outputs": [
        {
          "output_type": "execute_result",
          "data": {
            "text/plain": [
              "(183, 275, 3)"
            ]
          },
          "metadata": {
            "tags": []
          },
          "execution_count": 6
        },
        {
          "output_type": "stream",
          "text": [
            "time: 5.41 ms (started: 2021-05-24 04:47:27 +00:00)\n"
          ],
          "name": "stdout"
        }
      ]
    },
    {
      "cell_type": "code",
      "metadata": {
        "colab": {
          "base_uri": "https://localhost:8080/"
        },
        "id": "Cjy1x7LBxYzX",
        "outputId": "26cb7595-0580-400c-fffd-d966e677d573"
      },
      "source": [
        "flatten_ip_img[0]"
      ],
      "execution_count": 7,
      "outputs": [
        {
          "output_type": "execute_result",
          "data": {
            "text/plain": [
              "array([0.99215686, 0.99215686, 0.99215686, ..., 0.99215686, 0.99215686,\n",
              "       0.99215686])"
            ]
          },
          "metadata": {
            "tags": []
          },
          "execution_count": 7
        },
        {
          "output_type": "stream",
          "text": [
            "time: 4.78 ms (started: 2021-05-24 04:47:27 +00:00)\n"
          ],
          "name": "stdout"
        }
      ]
    },
    {
      "cell_type": "code",
      "metadata": {
        "colab": {
          "base_uri": "https://localhost:8080/"
        },
        "id": "GwRMXW84xlXO",
        "outputId": "48ff808f-feff-4b97-fb58-7e5cc4d2eaa3"
      },
      "source": [
        "200*200*3"
      ],
      "execution_count": 8,
      "outputs": [
        {
          "output_type": "execute_result",
          "data": {
            "text/plain": [
              "120000"
            ]
          },
          "metadata": {
            "tags": []
          },
          "execution_count": 8
        },
        {
          "output_type": "stream",
          "text": [
            "time: 4.57 ms (started: 2021-05-24 04:47:27 +00:00)\n"
          ],
          "name": "stdout"
        }
      ]
    },
    {
      "cell_type": "code",
      "metadata": {
        "colab": {
          "base_uri": "https://localhost:8080/"
        },
        "id": "LrjyRspOx6gD",
        "outputId": "a4c23ea8-0547-461e-9524-51f7e7242c75"
      },
      "source": [
        "len(flatten_ip_img[0])"
      ],
      "execution_count": 9,
      "outputs": [
        {
          "output_type": "execute_result",
          "data": {
            "text/plain": [
              "120000"
            ]
          },
          "metadata": {
            "tags": []
          },
          "execution_count": 9
        },
        {
          "output_type": "stream",
          "text": [
            "time: 3.6 ms (started: 2021-05-24 04:47:28 +00:00)\n"
          ],
          "name": "stdout"
        }
      ]
    },
    {
      "cell_type": "code",
      "metadata": {
        "colab": {
          "base_uri": "https://localhost:8080/"
        },
        "id": "4uFffzdCyAIv",
        "outputId": "1066910f-7844-4120-be91-baad0c206736"
      },
      "source": [
        "output_category"
      ],
      "execution_count": 10,
      "outputs": [
        {
          "output_type": "execute_result",
          "data": {
            "text/plain": [
              "array([0, 0, 0, 0, 0, 0, 0, 0, 0, 0, 0, 0, 0, 0, 0, 0, 0, 0, 0, 0, 0, 0,\n",
              "       0, 0, 0, 0, 0, 0, 0, 0, 0, 0, 0, 0, 0, 0, 0, 0, 0, 0, 0, 0, 0, 0,\n",
              "       0, 0, 0, 0, 0, 0, 0, 1, 1, 1, 1, 1, 1, 1, 1, 1, 1, 1, 1, 1, 1, 1,\n",
              "       1, 1, 1, 1, 1, 1, 1, 1, 1, 1, 1, 1, 1, 1, 1, 1, 1, 1, 1, 1, 1, 1,\n",
              "       1, 1, 1, 1, 1, 1, 1, 1, 1, 1, 1, 1, 2, 2, 2, 2, 2, 2, 2, 2, 2, 2,\n",
              "       2, 2, 2, 2, 2, 2, 2, 2, 2, 2, 2, 2, 2, 2, 2, 2, 2, 2, 2, 2, 2, 2,\n",
              "       2, 2, 2, 2, 2, 2, 2, 2, 2, 2, 2, 2, 2, 2, 2, 2, 2, 2])"
            ]
          },
          "metadata": {
            "tags": []
          },
          "execution_count": 10
        },
        {
          "output_type": "stream",
          "text": [
            "time: 4.77 ms (started: 2021-05-24 04:47:28 +00:00)\n"
          ],
          "name": "stdout"
        }
      ]
    },
    {
      "cell_type": "code",
      "metadata": {
        "colab": {
          "base_uri": "https://localhost:8080/",
          "height": 298
        },
        "id": "nslzPxrGyFWB",
        "outputId": "4f6b901b-1383-4143-9142-d967762bdd2d"
      },
      "source": [
        "unique, count = np.unique(output_category,return_counts=True)\n",
        "plt.bar(Categories,count)"
      ],
      "execution_count": 11,
      "outputs": [
        {
          "output_type": "execute_result",
          "data": {
            "text/plain": [
              "<BarContainer object of 3 artists>"
            ]
          },
          "metadata": {
            "tags": []
          },
          "execution_count": 11
        },
        {
          "output_type": "display_data",
          "data": {
            "image/png": "[encoded data removed]",
            "text/plain": [
              "<Figure size 432x288 with 1 Axes>"
            ]
          },
          "metadata": {
            "tags": [],
            "needs_background": "light"
          }
        },
        {
          "output_type": "stream",
          "text": [
            "time: 149 ms (started: 2021-05-24 04:47:28 +00:00)\n"
          ],
          "name": "stdout"
        }
      ]
    },
    {
      "cell_type": "code",
      "metadata": {
        "id": "jnq3f1jMyne0",
        "colab": {
          "base_uri": "https://localhost:8080/",
          "height": 52
        },
        "outputId": "2c8acae7-15ef-47aa-cb84-1c1c9efc1b22"
      },
      "source": [
        "'''\n",
        "Data is ready!\n",
        "Split it.\n",
        "Train it and then test it.\n",
        "'''"
      ],
      "execution_count": 12,
      "outputs": [
        {
          "output_type": "execute_result",
          "data": {
            "application/vnd.google.colaboratory.intrinsic+json": {
              "type": "string"
            },
            "text/plain": [
              "'\\nData is ready!\\nSplit it.\\nTrain it and then test it.\\n'"
            ]
          },
          "metadata": {
            "tags": []
          },
          "execution_count": 12
        },
        {
          "output_type": "stream",
          "text": [
            "time: 5.22 ms (started: 2021-05-24 04:47:28 +00:00)\n"
          ],
          "name": "stdout"
        }
      ]
    },
    {
      "cell_type": "code",
      "metadata": {
        "id": "Hfp-VF_uzBPI",
        "colab": {
          "base_uri": "https://localhost:8080/"
        },
        "outputId": "2de44f81-5ade-4734-e411-faf0ce009a18"
      },
      "source": [
        "from sklearn.model_selection import train_test_split\n",
        "x_train, x_test, y_train, y_test = train_test_split(flatten_ip_img,output_category,test_size=0.20, random_state=0)"
      ],
      "execution_count": 13,
      "outputs": [
        {
          "output_type": "stream",
          "text": [
            "time: 93.4 ms (started: 2021-05-24 04:47:30 +00:00)\n"
          ],
          "name": "stdout"
        }
      ]
    },
    {
      "cell_type": "code",
      "metadata": {
        "colab": {
          "base_uri": "https://localhost:8080/"
        },
        "id": "oqGOyMTkKFXo",
        "outputId": "22404379-08e9-45ec-9826-5349410f2ac7"
      },
      "source": [
        "x_train, y_train"
      ],
      "execution_count": 14,
      "outputs": [
        {
          "output_type": "execute_result",
          "data": {
            "text/plain": [
              "(array([[0.98480392, 0.98480392, 0.98480392, ..., 0.9852549 , 0.9852549 ,\n",
              "         0.9852549 ],\n",
              "        [1.        , 1.        , 1.        , ..., 1.        , 1.        ,\n",
              "         1.        ],\n",
              "        [0.15177696, 0.15569853, 0.12444853, ..., 0.49154412, 0.39007353,\n",
              "         0.25753676],\n",
              "        ...,\n",
              "        [0.57906877, 0.55553936, 0.5633825 , ..., 0.81481343, 0.81481343,\n",
              "         0.81481343],\n",
              "        [0.99607843, 0.99607843, 0.99607843, ..., 0.99607843, 0.99607843,\n",
              "         0.99607843],\n",
              "        [1.        , 1.        , 1.        , ..., 1.        , 1.        ,\n",
              "         1.        ]]),\n",
              " array([2, 1, 0, 2, 2, 1, 0, 1, 1, 1, 2, 0, 2, 0, 0, 1, 2, 2, 2, 2, 1, 2,\n",
              "        1, 1, 2, 2, 2, 2, 0, 2, 1, 0, 2, 1, 1, 1, 1, 2, 0, 0, 2, 1, 0, 0,\n",
              "        1, 0, 2, 1, 0, 1, 2, 1, 0, 2, 2, 2, 2, 0, 0, 2, 2, 0, 2, 0, 2, 2,\n",
              "        0, 0, 2, 0, 0, 0, 1, 2, 2, 0, 0, 0, 1, 1, 0, 0, 1, 0, 2, 1, 2, 1,\n",
              "        0, 2, 0, 2, 0, 0, 2, 0, 2, 1, 1, 1, 2, 2, 1, 1, 0, 1, 2, 2, 0, 1,\n",
              "        1, 1, 1, 0, 0, 0, 2, 1, 2, 0]))"
            ]
          },
          "metadata": {
            "tags": []
          },
          "execution_count": 14
        },
        {
          "output_type": "stream",
          "text": [
            "time: 5.98 ms (started: 2021-05-24 04:47:30 +00:00)\n"
          ],
          "name": "stdout"
        }
      ]
    },
    {
      "cell_type": "markdown",
      "metadata": {
        "id": "UnLir5lUSEN1"
      },
      "source": [
        "#Algorithm 1: SVM\n",
        "Accuracy = 83.34%"
      ]
    },
    {
      "cell_type": "code",
      "metadata": {
        "id": "2HG7Uvy0zTf1",
        "colab": {
          "base_uri": "https://localhost:8080/"
        },
        "outputId": "0d06b9f3-e6bc-4176-e79b-6b8eb76427c3"
      },
      "source": [
        "from sklearn.model_selection import GridSearchCV\n",
        "from sklearn import svm\n",
        "\n",
        "param_grid = [\n",
        "              { 'C' : [1,10,100,1000],'kernel' : ['linear']},\n",
        "              { 'C' : [1,10,100,1000],'gamma' : [0.001,0.0001], 'kernel' : ['rbf']}\n",
        "]\n",
        "svc = svm.SVC(probability=True)\n",
        "model_GSCV = GridSearchCV(svc,param_grid)\n",
        "model_GSCV.fit(x_train,y_train)"
      ],
      "execution_count": 15,
      "outputs": [
        {
          "output_type": "execute_result",
          "data": {
            "text/plain": [
              "GridSearchCV(cv=None, error_score=nan,\n",
              "             estimator=SVC(C=1.0, break_ties=False, cache_size=200,\n",
              "                           class_weight=None, coef0=0.0,\n",
              "                           decision_function_shape='ovr', degree=3,\n",
              "                           gamma='scale', kernel='rbf', max_iter=-1,\n",
              "                           probability=True, random_state=None, shrinking=True,\n",
              "                           tol=0.001, verbose=False),\n",
              "             iid='deprecated', n_jobs=None,\n",
              "             param_grid=[{'C': [1, 10, 100, 1000], 'kernel': ['linear']},\n",
              "                         {'C': [1, 10, 100, 1000], 'gamma': [0.001, 0.0001],\n",
              "                          'kernel': ['rbf']}],\n",
              "             pre_dispatch='2*n_jobs', refit=True, return_train_score=False,\n",
              "             scoring=None, verbose=0)"
            ]
          },
          "metadata": {
            "tags": []
          },
          "execution_count": 15
        },
        {
          "output_type": "stream",
          "text": [
            "time: 11min 37s (started: 2021-05-24 04:47:31 +00:00)\n"
          ],
          "name": "stdout"
        }
      ]
    },
    {
      "cell_type": "code",
      "metadata": {
        "colab": {
          "base_uri": "https://localhost:8080/"
        },
        "id": "J93hIkZbdrcK",
        "outputId": "c9aa44ea-3a53-4a56-d636-d4c5f18edfe0"
      },
      "source": [
        "y_predict = model_GSCV.predict(x_test)\n",
        "y_predict"
      ],
      "execution_count": 16,
      "outputs": [
        {
          "output_type": "execute_result",
          "data": {
            "text/plain": [
              "array([2, 1, 0, 2, 1, 2, 0, 1, 1, 1, 2, 2, 1, 1, 1, 0, 1, 1, 0, 0, 2, 2,\n",
              "       1, 0, 2, 0, 2, 1, 1, 0])"
            ]
          },
          "metadata": {
            "tags": []
          },
          "execution_count": 16
        },
        {
          "output_type": "stream",
          "text": [
            "time: 669 ms (started: 2021-05-24 04:59:52 +00:00)\n"
          ],
          "name": "stdout"
        }
      ]
    },
    {
      "cell_type": "code",
      "metadata": {
        "colab": {
          "base_uri": "https://localhost:8080/"
        },
        "id": "_zVV7pQ0pXMW",
        "outputId": "2648d12e-957a-40b3-cd01-9169ef948e5a"
      },
      "source": [
        "y_test"
      ],
      "execution_count": 17,
      "outputs": [
        {
          "output_type": "execute_result",
          "data": {
            "text/plain": [
              "array([2, 1, 0, 2, 0, 2, 0, 1, 1, 1, 2, 1, 1, 1, 1, 0, 1, 1, 0, 0, 2, 1,\n",
              "       0, 0, 2, 0, 0, 1, 1, 0])"
            ]
          },
          "metadata": {
            "tags": []
          },
          "execution_count": 17
        },
        {
          "output_type": "stream",
          "text": [
            "time: 5.74 ms (started: 2021-05-24 04:59:53 +00:00)\n"
          ],
          "name": "stdout"
        }
      ]
    },
    {
      "cell_type": "code",
      "metadata": {
        "colab": {
          "base_uri": "https://localhost:8080/"
        },
        "id": "oyPjvZtRpuF_",
        "outputId": "4bfedbad-3d3f-4a1c-cc64-621827ea413d"
      },
      "source": [
        "from sklearn.metrics import accuracy_score, confusion_matrix"
      ],
      "execution_count": 18,
      "outputs": [
        {
          "output_type": "stream",
          "text": [
            "time: 784 µs (started: 2021-05-24 04:59:53 +00:00)\n"
          ],
          "name": "stdout"
        }
      ]
    },
    {
      "cell_type": "code",
      "metadata": {
        "colab": {
          "base_uri": "https://localhost:8080/"
        },
        "id": "dgpTyGEpp7ew",
        "outputId": "74d638b3-18a6-4ec4-92c7-194b536ade02"
      },
      "source": [
        "accuracy_score(y_test,y_predict)\n"
      ],
      "execution_count": 19,
      "outputs": [
        {
          "output_type": "execute_result",
          "data": {
            "text/plain": [
              "0.8333333333333334"
            ]
          },
          "metadata": {
            "tags": []
          },
          "execution_count": 19
        },
        {
          "output_type": "stream",
          "text": [
            "time: 4.76 ms (started: 2021-05-24 04:59:53 +00:00)\n"
          ],
          "name": "stdout"
        }
      ]
    },
    {
      "cell_type": "code",
      "metadata": {
        "colab": {
          "base_uri": "https://localhost:8080/"
        },
        "id": "obEg9P_jp-JJ",
        "outputId": "7266a22d-8fe0-4115-e618-4a5b631e0e87"
      },
      "source": [
        "confusion_matrix(y_test,y_predict)"
      ],
      "execution_count": 20,
      "outputs": [
        {
          "output_type": "execute_result",
          "data": {
            "text/plain": [
              "array([[ 8,  2,  1],\n",
              "       [ 0, 11,  2],\n",
              "       [ 0,  0,  6]])"
            ]
          },
          "metadata": {
            "tags": []
          },
          "execution_count": 20
        },
        {
          "output_type": "stream",
          "text": [
            "time: 6.57 ms (started: 2021-05-24 04:59:54 +00:00)\n"
          ],
          "name": "stdout"
        }
      ]
    },
    {
      "cell_type": "markdown",
      "metadata": {
        "id": "quK2U2MOu12t"
      },
      "source": [
        "# Algorithm 2: Decision Tree\n",
        "Accuracy = 83.34%"
      ]
    },
    {
      "cell_type": "code",
      "metadata": {
        "id": "tFTUd3mdqDbH",
        "colab": {
          "base_uri": "https://localhost:8080/"
        },
        "outputId": "4cd59050-79ec-4e1c-806e-ac8d3cf05236"
      },
      "source": [
        "from sklearn.tree import DecisionTreeClassifier"
      ],
      "execution_count": 21,
      "outputs": [
        {
          "output_type": "stream",
          "text": [
            "time: 89.9 ms (started: 2021-05-24 04:59:54 +00:00)\n"
          ],
          "name": "stdout"
        }
      ]
    },
    {
      "cell_type": "code",
      "metadata": {
        "id": "qLeHjZfzu9Xl",
        "colab": {
          "base_uri": "https://localhost:8080/"
        },
        "outputId": "8a748db6-873b-4c9d-eb91-42b3ff076c46"
      },
      "source": [
        "regressor = DecisionTreeClassifier(random_state=234)"
      ],
      "execution_count": 22,
      "outputs": [
        {
          "output_type": "stream",
          "text": [
            "time: 2.24 ms (started: 2021-05-24 04:59:55 +00:00)\n"
          ],
          "name": "stdout"
        }
      ]
    },
    {
      "cell_type": "code",
      "metadata": {
        "id": "ScDiKjsMvKgO",
        "colab": {
          "base_uri": "https://localhost:8080/"
        },
        "outputId": "535d00ca-4c45-4f5a-f12f-0ac726bc9267"
      },
      "source": [
        "regressor.fit(x_train,y_train)\n",
        "y_predict2 = regressor.predict(x_test)\n",
        "y_predict2"
      ],
      "execution_count": 23,
      "outputs": [
        {
          "output_type": "execute_result",
          "data": {
            "text/plain": [
              "array([2, 1, 0, 2, 0, 2, 2, 1, 1, 1, 2, 1, 1, 1, 1, 0, 1, 1, 0, 1, 2, 2,\n",
              "       0, 0, 2, 2, 2, 1, 1, 0])"
            ]
          },
          "metadata": {
            "tags": []
          },
          "execution_count": 23
        },
        {
          "output_type": "stream",
          "text": [
            "time: 4.09 s (started: 2021-05-24 04:59:55 +00:00)\n"
          ],
          "name": "stdout"
        }
      ]
    },
    {
      "cell_type": "code",
      "metadata": {
        "id": "dDdBU_I9vbk5",
        "colab": {
          "base_uri": "https://localhost:8080/"
        },
        "outputId": "ac99cf79-7972-43c8-8b72-aa4211e6ac9f"
      },
      "source": [
        "y_test"
      ],
      "execution_count": 24,
      "outputs": [
        {
          "output_type": "execute_result",
          "data": {
            "text/plain": [
              "array([2, 1, 0, 2, 0, 2, 0, 1, 1, 1, 2, 1, 1, 1, 1, 0, 1, 1, 0, 0, 2, 1,\n",
              "       0, 0, 2, 0, 0, 1, 1, 0])"
            ]
          },
          "metadata": {
            "tags": []
          },
          "execution_count": 24
        },
        {
          "output_type": "stream",
          "text": [
            "time: 4.85 ms (started: 2021-05-24 04:59:59 +00:00)\n"
          ],
          "name": "stdout"
        }
      ]
    },
    {
      "cell_type": "code",
      "metadata": {
        "id": "1LP5ndsUvfO8",
        "colab": {
          "base_uri": "https://localhost:8080/"
        },
        "outputId": "c1a570a7-f352-4b06-ecc1-39be295c9f49"
      },
      "source": [
        "accuracy_score(y_test,y_predict2)"
      ],
      "execution_count": 25,
      "outputs": [
        {
          "output_type": "execute_result",
          "data": {
            "text/plain": [
              "0.8333333333333334"
            ]
          },
          "metadata": {
            "tags": []
          },
          "execution_count": 25
        },
        {
          "output_type": "stream",
          "text": [
            "time: 3.98 ms (started: 2021-05-24 04:59:59 +00:00)\n"
          ],
          "name": "stdout"
        }
      ]
    },
    {
      "cell_type": "code",
      "metadata": {
        "id": "hH9cd57LvjiY",
        "colab": {
          "base_uri": "https://localhost:8080/"
        },
        "outputId": "122b1a30-0be7-416e-b724-7b2eddd28e79"
      },
      "source": [
        "confusion_matrix(y_test,y_predict2)"
      ],
      "execution_count": 26,
      "outputs": [
        {
          "output_type": "execute_result",
          "data": {
            "text/plain": [
              "array([[ 7,  1,  3],\n",
              "       [ 0, 12,  1],\n",
              "       [ 0,  0,  6]])"
            ]
          },
          "metadata": {
            "tags": []
          },
          "execution_count": 26
        },
        {
          "output_type": "stream",
          "text": [
            "time: 4.58 ms (started: 2021-05-24 04:59:59 +00:00)\n"
          ],
          "name": "stdout"
        }
      ]
    },
    {
      "cell_type": "markdown",
      "metadata": {
        "id": "UqwY7-_4vtKl"
      },
      "source": [
        "#Algorithm 3: Random Forest\n",
        "Accuracy = 93.34%"
      ]
    },
    {
      "cell_type": "code",
      "metadata": {
        "id": "-gKMnWFcvqli",
        "colab": {
          "base_uri": "https://localhost:8080/"
        },
        "outputId": "5016a446-bb29-4052-985c-9f20b69d0461"
      },
      "source": [
        "from sklearn.ensemble import RandomForestClassifier"
      ],
      "execution_count": 27,
      "outputs": [
        {
          "output_type": "stream",
          "text": [
            "time: 12.3 ms (started: 2021-05-24 04:59:59 +00:00)\n"
          ],
          "name": "stdout"
        }
      ]
    },
    {
      "cell_type": "code",
      "metadata": {
        "id": "gUIkZ2DewLAb",
        "colab": {
          "base_uri": "https://localhost:8080/"
        },
        "outputId": "0dee3c0d-143d-4bf8-82ce-da9464cf95b8"
      },
      "source": [
        "model3 = RandomForestClassifier(n_estimators=300,random_state=234)\n",
        "model3.fit(x_train,y_train)\n",
        "y_predict3 = model3.predict(x_test)\n",
        "y_predict3"
      ],
      "execution_count": 28,
      "outputs": [
        {
          "output_type": "execute_result",
          "data": {
            "text/plain": [
              "array([2, 1, 0, 2, 0, 2, 0, 1, 1, 1, 2, 1, 1, 1, 1, 0, 1, 1, 0, 0, 2, 2,\n",
              "       0, 0, 2, 0, 2, 1, 1, 0])"
            ]
          },
          "metadata": {
            "tags": []
          },
          "execution_count": 28
        },
        {
          "output_type": "stream",
          "text": [
            "time: 2.82 s (started: 2021-05-24 04:59:59 +00:00)\n"
          ],
          "name": "stdout"
        }
      ]
    },
    {
      "cell_type": "code",
      "metadata": {
        "id": "thVj12fOwd9c",
        "colab": {
          "base_uri": "https://localhost:8080/"
        },
        "outputId": "fac4cd0f-7ab5-4e46-bb92-049cadb13053"
      },
      "source": [
        "y_test"
      ],
      "execution_count": 29,
      "outputs": [
        {
          "output_type": "execute_result",
          "data": {
            "text/plain": [
              "array([2, 1, 0, 2, 0, 2, 0, 1, 1, 1, 2, 1, 1, 1, 1, 0, 1, 1, 0, 0, 2, 1,\n",
              "       0, 0, 2, 0, 0, 1, 1, 0])"
            ]
          },
          "metadata": {
            "tags": []
          },
          "execution_count": 29
        },
        {
          "output_type": "stream",
          "text": [
            "time: 3.69 ms (started: 2021-05-24 05:00:02 +00:00)\n"
          ],
          "name": "stdout"
        }
      ]
    },
    {
      "cell_type": "code",
      "metadata": {
        "id": "kBbGaZSrwfgE",
        "colab": {
          "base_uri": "https://localhost:8080/"
        },
        "outputId": "babfe2db-26f1-40f7-8dd2-672b716f31fe"
      },
      "source": [
        "accuracy_score(y_test,y_predict3)"
      ],
      "execution_count": 30,
      "outputs": [
        {
          "output_type": "execute_result",
          "data": {
            "text/plain": [
              "0.9333333333333333"
            ]
          },
          "metadata": {
            "tags": []
          },
          "execution_count": 30
        },
        {
          "output_type": "stream",
          "text": [
            "time: 4.17 ms (started: 2021-05-24 05:00:02 +00:00)\n"
          ],
          "name": "stdout"
        }
      ]
    },
    {
      "cell_type": "code",
      "metadata": {
        "id": "a9Xd0o8lwtEF",
        "colab": {
          "base_uri": "https://localhost:8080/"
        },
        "outputId": "1bd87733-79a6-4062-aaff-a3fff3857e8b"
      },
      "source": [
        "confusion_matrix(y_test,y_predict3)"
      ],
      "execution_count": 31,
      "outputs": [
        {
          "output_type": "execute_result",
          "data": {
            "text/plain": [
              "array([[10,  0,  1],\n",
              "       [ 0, 12,  1],\n",
              "       [ 0,  0,  6]])"
            ]
          },
          "metadata": {
            "tags": []
          },
          "execution_count": 31
        },
        {
          "output_type": "stream",
          "text": [
            "time: 4.88 ms (started: 2021-05-24 05:00:02 +00:00)\n"
          ],
          "name": "stdout"
        }
      ]
    },
    {
      "cell_type": "code",
      "metadata": {
        "id": "juYcq6C94KnU"
      },
      "source": [
        ""
      ],
      "execution_count": 31,
      "outputs": []
    },
    {
      "cell_type": "markdown",
      "metadata": {
        "id": "bfcSHAHd6kQu"
      },
      "source": [
        "# Logistic Regressoion\n",
        "Accuracy = 73.34%"
      ]
    },
    {
      "cell_type": "code",
      "metadata": {
        "id": "KDV57t1y6sZK",
        "colab": {
          "base_uri": "https://localhost:8080/"
        },
        "outputId": "ab4b297b-164a-4d68-9506-ecd0eec070e0"
      },
      "source": [
        "from sklearn.linear_model import LogisticRegression"
      ],
      "execution_count": 32,
      "outputs": [
        {
          "output_type": "stream",
          "text": [
            "time: 1.1 ms (started: 2021-05-24 05:00:02 +00:00)\n"
          ],
          "name": "stdout"
        }
      ]
    },
    {
      "cell_type": "code",
      "metadata": {
        "id": "e-5Pvc9j6w0H",
        "colab": {
          "base_uri": "https://localhost:8080/"
        },
        "outputId": "8c87d161-e2ef-4c3c-87a8-1409be19ff4d"
      },
      "source": [
        "model4 = LogisticRegression(random_state=234)\n",
        "model4.fit(x_train,y_train)\n",
        "y_pred4 = model4.predict(x_test)\n",
        "y_pred4"
      ],
      "execution_count": 33,
      "outputs": [
        {
          "output_type": "stream",
          "text": [
            "/usr/local/lib/python3.7/dist-packages/sklearn/linear_model/_logistic.py:940: ConvergenceWarning: lbfgs failed to converge (status=1):\n",
            "STOP: TOTAL NO. of ITERATIONS REACHED LIMIT.\n",
            "\n",
            "Increase the number of iterations (max_iter) or scale the data as shown in:\n",
            "    https://scikit-learn.org/stable/modules/preprocessing.html\n",
            "Please also refer to the documentation for alternative solver options:\n",
            "    https://scikit-learn.org/stable/modules/linear_model.html#logistic-regression\n",
            "  extra_warning_msg=_LOGISTIC_SOLVER_CONVERGENCE_MSG)\n"
          ],
          "name": "stderr"
        },
        {
          "output_type": "execute_result",
          "data": {
            "text/plain": [
              "array([2, 1, 0, 2, 2, 2, 0, 1, 1, 1, 2, 2, 2, 1, 2, 0, 1, 1, 0, 1, 2, 2,\n",
              "       2, 0, 2, 0, 2, 1, 1, 0])"
            ]
          },
          "metadata": {
            "tags": []
          },
          "execution_count": 33
        },
        {
          "output_type": "stream",
          "text": [
            "time: 16.7 s (started: 2021-05-24 05:00:02 +00:00)\n"
          ],
          "name": "stdout"
        }
      ]
    },
    {
      "cell_type": "code",
      "metadata": {
        "id": "Tse4voV46_MC",
        "colab": {
          "base_uri": "https://localhost:8080/"
        },
        "outputId": "4a341ad8-9f47-492a-b8cf-7a8d2ffac710"
      },
      "source": [
        "y_test"
      ],
      "execution_count": 34,
      "outputs": [
        {
          "output_type": "execute_result",
          "data": {
            "text/plain": [
              "array([2, 1, 0, 2, 0, 2, 0, 1, 1, 1, 2, 1, 1, 1, 1, 0, 1, 1, 0, 0, 2, 1,\n",
              "       0, 0, 2, 0, 0, 1, 1, 0])"
            ]
          },
          "metadata": {
            "tags": []
          },
          "execution_count": 34
        },
        {
          "output_type": "stream",
          "text": [
            "time: 4.03 ms (started: 2021-05-24 05:00:19 +00:00)\n"
          ],
          "name": "stdout"
        }
      ]
    },
    {
      "cell_type": "code",
      "metadata": {
        "id": "Bb9UfI-16_-5",
        "colab": {
          "base_uri": "https://localhost:8080/"
        },
        "outputId": "e8280d4a-676e-4d46-a2d7-823c8d1e8f3d"
      },
      "source": [
        "accuracy_score(y_true=y_test,y_pred=y_pred4)"
      ],
      "execution_count": 35,
      "outputs": [
        {
          "output_type": "execute_result",
          "data": {
            "text/plain": [
              "0.7333333333333333"
            ]
          },
          "metadata": {
            "tags": []
          },
          "execution_count": 35
        },
        {
          "output_type": "stream",
          "text": [
            "time: 4.4 ms (started: 2021-05-24 05:00:19 +00:00)\n"
          ],
          "name": "stdout"
        }
      ]
    },
    {
      "cell_type": "code",
      "metadata": {
        "id": "zt4WpVFj7I7p"
      },
      "source": [
        ""
      ],
      "execution_count": 35,
      "outputs": []
    },
    {
      "cell_type": "markdown",
      "metadata": {
        "id": "NjwKLG_Q7dyh"
      },
      "source": [
        "#Naive Bayes\n",
        "Accuracy = 70.00%"
      ]
    },
    {
      "cell_type": "code",
      "metadata": {
        "id": "lqhuGRX37kD_",
        "colab": {
          "base_uri": "https://localhost:8080/"
        },
        "outputId": "63987cef-8bf4-4718-aed9-b05f613cbdbb"
      },
      "source": [
        "from sklearn.naive_bayes import GaussianNB"
      ],
      "execution_count": 36,
      "outputs": [
        {
          "output_type": "stream",
          "text": [
            "time: 2.26 ms (started: 2021-05-24 05:00:19 +00:00)\n"
          ],
          "name": "stdout"
        }
      ]
    },
    {
      "cell_type": "code",
      "metadata": {
        "id": "JPSnzow87x-d",
        "colab": {
          "base_uri": "https://localhost:8080/"
        },
        "outputId": "e630b6de-1bfd-4901-fd5b-bd354dfa9091"
      },
      "source": [
        "model5 = GaussianNB()\n",
        "model5.fit(x_train, y_train)\n",
        "y_pred5 = model5.predict(x_test)\n",
        "y_pred5"
      ],
      "execution_count": 37,
      "outputs": [
        {
          "output_type": "execute_result",
          "data": {
            "text/plain": [
              "array([0, 1, 0, 2, 0, 2, 0, 1, 1, 1, 1, 2, 1, 1, 2, 0, 1, 1, 0, 0, 1, 2,\n",
              "       0, 2, 2, 2, 2, 1, 1, 0])"
            ]
          },
          "metadata": {
            "tags": []
          },
          "execution_count": 37
        },
        {
          "output_type": "stream",
          "text": [
            "time: 352 ms (started: 2021-05-24 05:00:19 +00:00)\n"
          ],
          "name": "stdout"
        }
      ]
    },
    {
      "cell_type": "code",
      "metadata": {
        "id": "X-N9Mxre75tS",
        "colab": {
          "base_uri": "https://localhost:8080/"
        },
        "outputId": "08c6d624-f343-4779-9fba-cc242d978fa4"
      },
      "source": [
        "y_test"
      ],
      "execution_count": 38,
      "outputs": [
        {
          "output_type": "execute_result",
          "data": {
            "text/plain": [
              "array([2, 1, 0, 2, 0, 2, 0, 1, 1, 1, 2, 1, 1, 1, 1, 0, 1, 1, 0, 0, 2, 1,\n",
              "       0, 0, 2, 0, 0, 1, 1, 0])"
            ]
          },
          "metadata": {
            "tags": []
          },
          "execution_count": 38
        },
        {
          "output_type": "stream",
          "text": [
            "time: 6.3 ms (started: 2021-05-24 05:00:19 +00:00)\n"
          ],
          "name": "stdout"
        }
      ]
    },
    {
      "cell_type": "code",
      "metadata": {
        "id": "vfhJ45PH789x",
        "colab": {
          "base_uri": "https://localhost:8080/"
        },
        "outputId": "94a96478-7f65-4814-a184-f056ad8ed088"
      },
      "source": [
        "accuracy_score(y_true=y_test,y_pred=y_pred5)"
      ],
      "execution_count": 39,
      "outputs": [
        {
          "output_type": "execute_result",
          "data": {
            "text/plain": [
              "0.7"
            ]
          },
          "metadata": {
            "tags": []
          },
          "execution_count": 39
        },
        {
          "output_type": "stream",
          "text": [
            "time: 5.13 ms (started: 2021-05-24 05:00:19 +00:00)\n"
          ],
          "name": "stdout"
        }
      ]
    },
    {
      "cell_type": "code",
      "metadata": {
        "id": "y0t6OVFJ8Dvx",
        "colab": {
          "base_uri": "https://localhost:8080/"
        },
        "outputId": "42d973f5-7fa5-4d40-9601-b9a2de277a67"
      },
      "source": [
        "confusion_matrix(y_true=y_test,y_pred=y_pred5)"
      ],
      "execution_count": 40,
      "outputs": [
        {
          "output_type": "execute_result",
          "data": {
            "text/plain": [
              "array([[ 8,  0,  3],\n",
              "       [ 0, 10,  3],\n",
              "       [ 1,  2,  3]])"
            ]
          },
          "metadata": {
            "tags": []
          },
          "execution_count": 40
        },
        {
          "output_type": "stream",
          "text": [
            "time: 5.39 ms (started: 2021-05-24 05:00:19 +00:00)\n"
          ],
          "name": "stdout"
        }
      ]
    },
    {
      "cell_type": "markdown",
      "metadata": {
        "id": "ZAEkMjhR8a8f"
      },
      "source": [
        "#XG Boost\n",
        "Accuracy = 76.67%"
      ]
    },
    {
      "cell_type": "code",
      "metadata": {
        "id": "pmwL53k-8dF2",
        "colab": {
          "base_uri": "https://localhost:8080/"
        },
        "outputId": "0b3a2009-51c0-42dd-8d48-ad903d3a93ad"
      },
      "source": [
        "!pip install xgboost"
      ],
      "execution_count": 41,
      "outputs": [
        {
          "output_type": "stream",
          "text": [
            "Requirement already satisfied: xgboost in /usr/local/lib/python3.7/dist-packages (0.90)\n",
            "Requirement already satisfied: scipy in /usr/local/lib/python3.7/dist-packages (from xgboost) (1.4.1)\n",
            "Requirement already satisfied: numpy in /usr/local/lib/python3.7/dist-packages (from xgboost) (1.19.5)\n",
            "time: 2.74 s (started: 2021-05-24 05:00:19 +00:00)\n"
          ],
          "name": "stdout"
        }
      ]
    },
    {
      "cell_type": "code",
      "metadata": {
        "id": "gHp1STws8hqO",
        "colab": {
          "base_uri": "https://localhost:8080/"
        },
        "outputId": "258940ff-09e7-4d7f-ccd0-f2764f479153"
      },
      "source": [
        "from xgboost import XGBClassifier"
      ],
      "execution_count": 42,
      "outputs": [
        {
          "output_type": "stream",
          "text": [
            "time: 18.2 ms (started: 2021-05-24 05:00:22 +00:00)\n"
          ],
          "name": "stdout"
        }
      ]
    },
    {
      "cell_type": "code",
      "metadata": {
        "id": "68C9daqV8oFw",
        "colab": {
          "base_uri": "https://localhost:8080/"
        },
        "outputId": "a0ea0817-65cd-4dc4-89c7-32fd635bddaa"
      },
      "source": [
        "model6 = XGBClassifier()\n",
        "model6.fit(x_train,y_train)\n",
        "y_pred6 = model6.predict(x_test)\n",
        "y_pred6 "
      ],
      "execution_count": 43,
      "outputs": [
        {
          "output_type": "execute_result",
          "data": {
            "text/plain": [
              "array([2, 1, 0, 2, 1, 2, 0, 1, 1, 1, 2, 2, 1, 1, 1, 0, 1, 1, 0, 0, 1, 2,\n",
              "       1, 0, 2, 2, 2, 1, 1, 0])"
            ]
          },
          "metadata": {
            "tags": []
          },
          "execution_count": 43
        },
        {
          "output_type": "stream",
          "text": [
            "time: 3min 8s (started: 2021-05-24 05:00:22 +00:00)\n"
          ],
          "name": "stdout"
        }
      ]
    },
    {
      "cell_type": "code",
      "metadata": {
        "id": "-Xw5_BQS86Yh",
        "colab": {
          "base_uri": "https://localhost:8080/"
        },
        "outputId": "68de8034-4538-4b9c-856e-f789a319617b"
      },
      "source": [
        "y_test"
      ],
      "execution_count": 44,
      "outputs": [
        {
          "output_type": "execute_result",
          "data": {
            "text/plain": [
              "array([2, 1, 0, 2, 0, 2, 0, 1, 1, 1, 2, 1, 1, 1, 1, 0, 1, 1, 0, 0, 2, 1,\n",
              "       0, 0, 2, 0, 0, 1, 1, 0])"
            ]
          },
          "metadata": {
            "tags": []
          },
          "execution_count": 44
        },
        {
          "output_type": "stream",
          "text": [
            "time: 3.98 ms (started: 2021-05-24 05:03:31 +00:00)\n"
          ],
          "name": "stdout"
        }
      ]
    },
    {
      "cell_type": "code",
      "metadata": {
        "id": "FeAw0yHp87TD",
        "colab": {
          "base_uri": "https://localhost:8080/"
        },
        "outputId": "b07b932d-072c-4a07-dae6-5d8ea98b53ce"
      },
      "source": [
        "accuracy_score(y_true=y_test,y_pred=y_pred6)"
      ],
      "execution_count": 45,
      "outputs": [
        {
          "output_type": "execute_result",
          "data": {
            "text/plain": [
              "0.7666666666666667"
            ]
          },
          "metadata": {
            "tags": []
          },
          "execution_count": 45
        },
        {
          "output_type": "stream",
          "text": [
            "time: 4.45 ms (started: 2021-05-24 05:03:31 +00:00)\n"
          ],
          "name": "stdout"
        }
      ]
    },
    {
      "cell_type": "code",
      "metadata": {
        "id": "V8qKxQkr9Rbl",
        "colab": {
          "base_uri": "https://localhost:8080/"
        },
        "outputId": "4ac02127-fe98-429b-8217-e13619bb72f5"
      },
      "source": [
        "confusion_matrix(y_true=y_test,y_pred=y_pred6)"
      ],
      "execution_count": 46,
      "outputs": [
        {
          "output_type": "execute_result",
          "data": {
            "text/plain": [
              "array([[ 7,  2,  2],\n",
              "       [ 0, 11,  2],\n",
              "       [ 0,  1,  5]])"
            ]
          },
          "metadata": {
            "tags": []
          },
          "execution_count": 46
        },
        {
          "output_type": "stream",
          "text": [
            "time: 4.81 ms (started: 2021-05-24 05:03:31 +00:00)\n"
          ],
          "name": "stdout"
        }
      ]
    },
    {
      "cell_type": "code",
      "metadata": {
        "id": "bxRUiWwwC_kC",
        "colab": {
          "base_uri": "https://localhost:8080/"
        },
        "outputId": "40df639b-a20c-4f5c-fb2c-379c96f2a5c0"
      },
      "source": [
        "# Saving our model using pickle library. Since it takes time to train the model everytime."
      ],
      "execution_count": 47,
      "outputs": [
        {
          "output_type": "stream",
          "text": [
            "time: 4.29 ms (started: 2021-05-24 05:03:31 +00:00)\n"
          ],
          "name": "stdout"
        }
      ]
    },
    {
      "cell_type": "code",
      "metadata": {
        "id": "tq3jt5mMEWMx",
        "colab": {
          "base_uri": "https://localhost:8080/"
        },
        "outputId": "9ed8983d-a1f9-4cd1-b7aa-fdb2b64bf290"
      },
      "source": [
        "import pickle\n",
        "pickle.dump(model3,open('classify_img_RF.p','wb'))"
      ],
      "execution_count": 54,
      "outputs": [
        {
          "output_type": "stream",
          "text": [
            "time: 24.4 ms (started: 2021-05-24 04:43:54 +00:00)\n"
          ],
          "name": "stdout"
        }
      ]
    },
    {
      "cell_type": "code",
      "metadata": {
        "id": "MRMlZ9rPEv-o",
        "colab": {
          "base_uri": "https://localhost:8080/"
        },
        "outputId": "05dce921-7f76-4329-a063-e159babb6904"
      },
      "source": [
        "app_model = pickle.load(open('classify_img_RF.p','rb'))"
      ],
      "execution_count": 55,
      "outputs": [
        {
          "output_type": "stream",
          "text": [
            "time: 17.8 ms (started: 2021-05-24 04:43:54 +00:00)\n"
          ],
          "name": "stdout"
        }
      ]
    },
    {
      "cell_type": "code",
      "metadata": {
        "id": "KOF0pG-TFE9q",
        "colab": {
          "base_uri": "https://localhost:8080/"
        },
        "outputId": "8398f0e9-06f0-447b-93cf-83148f9cf9cf"
      },
      "source": [
        "#Testing another image from outside source"
      ],
      "execution_count": 56,
      "outputs": [
        {
          "output_type": "stream",
          "text": [
            "time: 2.16 ms (started: 2021-05-24 04:43:54 +00:00)\n"
          ],
          "name": "stdout"
        }
      ]
    },
    {
      "cell_type": "code",
      "metadata": {
        "id": "7-DQUSA9GtPf",
        "colab": {
          "base_uri": "https://localhost:8080/",
          "height": 356
        },
        "outputId": "018932fd-9da3-499f-9d14-39f6c8df5069"
      },
      "source": [
        "flat_data = []\n",
        "url = input(\"Input URL: \")\n",
        "img = imread(url)\n",
        "img_resized1 = resize(img,(200,200,3))\n",
        "flat_data.append(img_resized1.flatten())\n",
        "flat_data = np.array(flat_data)\n",
        "print(img.shape)\n",
        "plt.imshow(img_resized1)\n",
        "output_y = app_model.predict(flat_data)\n",
        "output_y = Categories[output_y[0]]\n",
        "print(f'PREDICTED OUTPUT: {output_y}')"
      ],
      "execution_count": 57,
      "outputs": [
        {
          "output_type": "stream",
          "text": [
            "Input URL: /content/drive/MyDrive/Colab Notebooks/SMARTKNOWER/Mini Project/Manual/DATA/TESTING/Computer Mouse/32.jpg\n",
            "(225, 230, 3)\n",
            "PREDICTED OUTPUT: Computer Mouse\n"
          ],
          "name": "stdout"
        },
        {
          "output_type": "display_data",
          "data": {
            "image/png": "[encoded data removed]",
            "text/plain": [
              "<Figure size 432x288 with 1 Axes>"
            ]
          },
          "metadata": {
            "tags": [],
            "needs_background": "light"
          }
        },
        {
          "output_type": "stream",
          "text": [
            "time: 41.5 s (started: 2021-05-24 04:43:54 +00:00)\n"
          ],
          "name": "stdout"
        }
      ]
    },
    {
      "cell_type": "code",
      "metadata": {
        "colab": {
          "base_uri": "https://localhost:8080/"
        },
        "id": "1dNzGLYgkLPE",
        "outputId": "c6356216-8921-45d7-c122-1e7b2a812d8f"
      },
      "source": [
        "from pyngrok import ngrok"
      ],
      "execution_count": 48,
      "outputs": [
        {
          "output_type": "stream",
          "text": [
            "time: 29.7 ms (started: 2021-05-24 05:04:28 +00:00)\n"
          ],
          "name": "stdout"
        }
      ]
    },
    {
      "cell_type": "code",
      "metadata": {
        "colab": {
          "base_uri": "https://localhost:8080/"
        },
        "id": "BdZ2QAx7PxWT",
        "outputId": "f74a4886-379d-45e3-a4c0-b96fd609f991"
      },
      "source": [
        "%%writefile app.py\n",
        "import streamlit as st\n",
        "import numpy as np\n",
        "from skimage.io import imread\n",
        "from skimage.transform import resize\n",
        "import pickle\n",
        "from PIL import Image\n",
        "st.title(\"IMAGE CLASSIFIER \")\n",
        "st.text(\"Upload an image...\")\n",
        "\n",
        "model = pickle.load(open('classify_img_RF.p','rb'))\n",
        "\n",
        "uploaded_img = st.file_uploader(\"Choose an image.\",\"jpg\")\n",
        "\n",
        "if uploaded_img is not None:\n",
        "  img = Image.open(uploaded_img)\n",
        "  st.image(img,caption='Your Image')\n",
        " \n",
        "  if st.button('PREDICT THE CATEGORY: '):\n",
        "    CATEGORIES = ['Computer Keyboard','Earphones','Computer Mouse']\n",
        "    st.write('Wait for the prediction...')\n",
        "    flat_data_app = []\n",
        "    img = np.array(img)\n",
        "    img_resized_app = resize(img,(200,200,3))\n",
        "    flat_data_app.append(img_resized_app.flatten())\n",
        "    flat_data_app = np.array(flat_data_app)\n",
        "    y = model.predict(flat_data_app)\n",
        "    y = CATEGORIES[y[0]]\n",
        "    st.title(f'CATEGORY: {y}')\n",
        "    q = model.predict_proba(flat_data_app)\n",
        "    for index, item in enumerate(CATEGORIES):\n",
        "      st.write(f'{item} : {q[0][index]*100}')"
      ],
      "execution_count": 57,
      "outputs": [
        {
          "output_type": "stream",
          "text": [
            "Overwriting app.py\n",
            "time: 5.81 ms (started: 2021-05-24 05:25:25 +00:00)\n"
          ],
          "name": "stdout"
        }
      ]
    },
    {
      "cell_type": "code",
      "metadata": {
        "colab": {
          "base_uri": "https://localhost:8080/",
          "height": 52
        },
        "id": "xdjKwAprSDNW",
        "outputId": "a0c421bb-3e26-4ce2-c9a2-a6a2d08c9d41"
      },
      "source": [
        "!nohup streamlit run app.py &\n",
        "\n",
        "url = ngrok.connect(port='8501')\n",
        "url"
      ],
      "execution_count": 50,
      "outputs": [
        {
          "output_type": "stream",
          "text": [
            "nohup: appending output to 'nohup.out'\n"
          ],
          "name": "stdout"
        },
        {
          "output_type": "execute_result",
          "data": {
            "application/vnd.google.colaboratory.intrinsic+json": {
              "type": "string"
            },
            "text/plain": [
              "'http://028f26f0c9e1.ngrok.io'"
            ]
          },
          "metadata": {
            "tags": []
          },
          "execution_count": 50
        },
        {
          "output_type": "stream",
          "text": [
            "time: 459 ms (started: 2021-05-24 05:04:29 +00:00)\n"
          ],
          "name": "stdout"
        }
      ]
    },
    {
      "cell_type": "code",
      "metadata": {
        "id": "QsHHYXdGSarc"
      },
      "source": [
        ""
      ],
      "execution_count": null,
      "outputs": []
    }
  ]
}
